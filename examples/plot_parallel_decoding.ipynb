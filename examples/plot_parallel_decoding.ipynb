{
 "cells": [
  {
   "cell_type": "code",
   "execution_count": 1,
   "id": "162b792a-5f38-4e4e-ad26-f0a4745ccaeb",
   "metadata": {},
   "outputs": [],
   "source": [
    "# this only draws the images, not interactive / zoom-able\n",
    "%matplotlib inline"
   ]
  },
  {
   "cell_type": "code",
   "execution_count": 2,
   "id": "d5175ec8-a9f9-4f01-9671-b105120840e1",
   "metadata": {},
   "outputs": [],
   "source": [
    "\"\"\"\n",
    "==================================\n",
    "Parallelization of Log-BP decoding\n",
    "==================================\n",
    "\n",
    "This example shows how coding and decoding can be done in parallel to speed\n",
    "up computations.\n",
    "\"\"\"\n",
    "\n",
    "from time import time\n",
    "\n",
    "import numpy as np\n",
    "\n",
    "from matplotlib import pyplot as plt\n",
    "\n",
    "from pyldpc import make_ldpc, decode, encode\n",
    "\n",
    "n = 100\n",
    "d_v = 2\n",
    "d_c = 5\n",
    "seed = 42\n",
    "rng = np.random.RandomState(seed)"
   ]
  },
  {
   "cell_type": "code",
   "execution_count": 3,
   "id": "44011d89-0bae-4d75-af12-0c104a307c77",
   "metadata": {},
   "outputs": [
    {
     "name": "stdout",
     "output_type": "stream",
     "text": [
      "Number of coded bits: 61\n"
     ]
    }
   ],
   "source": [
    "##################################################################\n",
    "# First we create an LDPC code i.e a pair of decoding and coding matrices\n",
    "# H and G. H is a regular parity-check matrix with d_v ones per row\n",
    "# and d_c ones per column\n",
    "\n",
    "H, G = make_ldpc(n, d_v, d_c, seed=seed, systematic=True, sparse=True)\n",
    "\n",
    "n, k = G.shape\n",
    "print(\"Number of coded bits:\", k)"
   ]
  },
  {
   "cell_type": "code",
   "execution_count": 4,
   "id": "2273afc3-0a87-44ad-9418-1b106200326a",
   "metadata": {},
   "outputs": [],
   "source": [
    "##################################################################\n",
    "# Now we simulate transmission for different levels of noise and\n",
    "# compute the percentage of errors using the bit-error-rate score\n",
    "# To parallelize coding and decoding, simply stack the messages as columns:\n",
    "\n",
    "n_messages = np.arange(1, 20)\n",
    "n_runs = 50\n",
    "snr = 10\n",
    "times_parallel = []\n",
    "times_sequential = []\n",
    "\n",
    "for pp in n_messages:\n",
    "    t_parallel = 0\n",
    "    t_seq = 0\n",
    "    V = rng.randint(2, size=(k, pp))  # simulate messages\n",
    "    Y = encode(G, V, snr, seed=seed)\n",
    "\n",
    "    for _ in range(n_runs):\n",
    "        t = time()\n",
    "        decode(H, Y, snr)\n",
    "        t_parallel += time() - t\n",
    "\n",
    "        t = time()\n",
    "        for y in Y.T:\n",
    "            decode(H, y, snr)\n",
    "        t_seq += time() - t\n",
    "    times_sequential.append(t_seq / n_runs)\n",
    "    times_parallel.append(t_parallel / n_runs)"
   ]
  },
  {
   "cell_type": "code",
   "execution_count": 5,
   "id": "0fbffd09-2cea-45be-8a1c-487e26df4bb1",
   "metadata": {},
   "outputs": [
    {
     "data": {
      "image/png": "[encoded data removed]",
      "text/plain": [
       "<Figure size 432x288 with 1 Axes>"
      ]
     },
     "metadata": {
      "needs_background": "light"
     },
     "output_type": "display_data"
    }
   ],
   "source": [
    "plt.figure()\n",
    "plt.plot(n_messages, times_sequential, color=\"indianred\", lw=2,\n",
    "         label=\"Sequential\")\n",
    "plt.plot(n_messages, times_parallel, color=\"gold\", lw=2, label=\"Parallel\")\n",
    "plt.ylabel(\"Time (s)\")\n",
    "plt.xlabel(\"# messages\")\n",
    "plt.legend()\n",
    "plt.show()"
   ]
  }
 ],
 "metadata": {
  "kernelspec": {
   "display_name": "pyldc39",
   "language": "python",
   "name": "pyldc39"
  },
  "language_info": {
   "codemirror_mode": {
    "name": "ipython",
    "version": 3
   },
   "file_extension": ".py",
   "mimetype": "text/x-python",
   "name": "python",
   "nbconvert_exporter": "python",
   "pygments_lexer": "ipython3",
   "version": "3.9.2"
  }
 },
 "nbformat": 4,
 "nbformat_minor": 5
}
