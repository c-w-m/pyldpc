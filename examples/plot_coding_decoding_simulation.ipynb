{
 "cells": [
  {
   "cell_type": "code",
   "execution_count": 1,
   "id": "d6cb9e7d-a16e-491a-8b9e-ecde7560e364",
   "metadata": {},
   "outputs": [],
   "source": [
    "# this only draws the images, not interactive / zoom-able\n",
    "%matplotlib inline"
   ]
  },
  {
   "cell_type": "code",
   "execution_count": 2,
   "id": "64516c5a-e476-482f-8a21-e0a58ce2802a",
   "metadata": {},
   "outputs": [],
   "source": [
    "\"\"\"\n",
    "================================================\n",
    "Coding - Decoding simulation of a random message\n",
    "================================================\n",
    "\n",
    "This example shows a simulation of the transmission of a binary message\n",
    "through a gaussian white noise channel with an LDPC coding and decoding system.\n",
    "\"\"\"\n",
    "from typing import Optional, Union    # , Tuple\n",
    "\n",
    "import numpy as np\n",
    "from numpy import ndarray\n",
    "\n",
    "from pyldpc import make_ldpc, decode, get_message, encode\n",
    "from matplotlib import pyplot as plt\n",
    "\n",
    "n = 30\n",
    "d_v = 2\n",
    "d_c = 3\n",
    "seed = np.random.RandomState(42)"
   ]
  },
  {
   "cell_type": "code",
   "execution_count": 3,
   "id": "2d2e6a58-adef-4a87-a171-f55d9d687caf",
   "metadata": {},
   "outputs": [
    {
     "name": "stdout",
     "output_type": "stream",
     "text": [
      "Number of coded bits: 11\n"
     ]
    }
   ],
   "source": [
    "##################################################################\n",
    "# First we create an LDPC code i.e a pair of decoding and coding matrices\n",
    "# H and G. H is a regular parity-check matrix with d_v ones per row\n",
    "# and d_c ones per column\n",
    "\n",
    "H, G = make_ldpc(n, d_v, d_c, seed=seed, systematic=True, sparse=True)\n",
    "\n",
    "n, k = G.shape\n",
    "print(\"Number of coded bits:\", k)"
   ]
  },
  {
   "cell_type": "code",
   "execution_count": 4,
   "id": "d3560e88-35bc-4876-958a-bb75a8287537",
   "metadata": {},
   "outputs": [
    {
     "name": "stderr",
     "output_type": "stream",
     "text": [
      "/home/cwm/git/git.c-w-m/ec_dev/src/pyldpc/pyldpc/decoder.py:62: UserWarning: Decoding stopped before convergence. You may want\n",
      "                       to increase maxiter\n",
      "  warnings.warn(\"\"\"Decoding stopped before convergence. You may want\n"
     ]
    }
   ],
   "source": [
    "##################################################################\n",
    "# Now we simulate transmission for different levels of noise and\n",
    "# compute the percentage of errors using the bit-error-rate score\n",
    "# The coding and decoding can be done in parallel by column stacking.\n",
    "\n",
    "errors = []\n",
    "snrs: Union[ndarray, tuple[ndarray, Optional[float]]] = np.linspace(-2, 10, 20)\n",
    "v = np.arange(k) % 2  # fixed k bits message\n",
    "n_trials = 50  # number of transmissions with different noise\n",
    "V = np.tile(v, (n_trials, 1)).T  # stack v in columns\n",
    "\n",
    "for snr in snrs:\n",
    "    y = encode(G, V, snr, seed=seed)\n",
    "    D = decode(H, y, snr)\n",
    "    error = 0.\n",
    "    for i in range(n_trials):\n",
    "        x = get_message(G, D[:, i])\n",
    "        error += abs(v - x).sum() / (k * n_trials)\n",
    "    errors.append(error)"
   ]
  },
  {
   "cell_type": "code",
   "execution_count": 5,
   "id": "ad189df0-ea16-47a5-be64-e6e61f5c469f",
   "metadata": {},
   "outputs": [
    {
     "data": {
      "image/png": "[encoded data removed]",
      "text/plain": [
       "<Figure size 432x288 with 1 Axes>"
      ]
     },
     "metadata": {
      "needs_background": "light"
     },
     "output_type": "display_data"
    }
   ],
   "source": [
    "plt.figure()\n",
    "plt.plot(snrs, errors, color=\"indianred\")\n",
    "plt.ylabel(\"Bit error rate\")\n",
    "plt.xlabel(\"SNR\")\n",
    "plt.show()"
   ]
  }
 ],
 "metadata": {
  "kernelspec": {
   "display_name": "pyldc39",
   "language": "python",
   "name": "pyldc39"
  },
  "language_info": {
   "codemirror_mode": {
    "name": "ipython",
    "version": 3
   },
   "file_extension": ".py",
   "mimetype": "text/x-python",
   "name": "python",
   "nbconvert_exporter": "python",
   "pygments_lexer": "ipython3",
   "version": "3.9.2"
  }
 },
 "nbformat": 4,
 "nbformat_minor": 5
}
